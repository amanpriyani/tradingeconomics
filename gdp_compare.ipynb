{
 "cells": [
  {
   "cell_type": "code",
   "execution_count": null,
   "metadata": {},
   "outputs": [],
   "source": [
    "import requests\n",
    "import matplotlib.pyplot as plt\n",
    "\n",
    "API_KEY = 'PASTE_YOUR_API_KEY_HERE'\n",
    "\n",
    "def get_data(country):\n",
    "    url = f\"https://api.tradingeconomics.com/historical/country/{country}/indicator/gdp?c={API_KEY}\"\n",
    "    response = requests.get(url)\n",
    "    return response.json()\n",
    "\n",
    "def plot_gdp(c1, c2):\n",
    "    data1 = get_data(c1)\n",
    "    data2 = get_data(c2)\n",
    "\n",
    "    years1 = [d['Date'][:4] for d in data1]\n",
    "    values1 = [d['Value'] for d in data1]\n",
    "\n",
    "    years2 = [d['Date'][:4] for d in data2]\n",
    "    values2 = [d['Value'] for d in data2]\n",
    "\n",
    "    plt.figure(figsize=(8,4))\n",
    "    plt.plot(years1, values1, marker='o', label=c1)\n",
    "    plt.plot(years2, values2, marker='s', label=c2)\n",
    "\n",
    "    plt.xlabel('Year')\n",
    "    plt.ylabel('GDP')\n",
    "    plt.title('GDP Comparison – India vs China')\n",
    "    plt.legend()\n",
    "    plt.xticks(rotation=45)\n",
    "    plt.tight_layout()\n",
    "    plt.show()\n",
    "\n",
    "plot_gdp('india', 'china')"
   ]
  }
 ],
 "metadata": {
  "kernelspec": {
   "display_name": "Python 3",
   "language": "python",
   "name": "python3"
  },
  "language_info": {
   "name": "python",
   "version": "3.x"
  }
 },
 "nbformat": 4,
 "nbformat_minor": 5
}
